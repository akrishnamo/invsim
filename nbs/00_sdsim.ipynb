{
 "cells": [
  {
   "cell_type": "markdown",
   "metadata": {},
   "source": [
    "# Simulation\n",
    "\n",
    "> This module has all the functions required for the inventory simulation functionality"
   ]
  },
  {
   "cell_type": "code",
   "execution_count": null,
   "metadata": {},
   "outputs": [],
   "source": [
    "#| default_exp sdsim"
   ]
  },
  {
   "cell_type": "code",
   "execution_count": null,
   "metadata": {},
   "outputs": [],
   "source": [
    "#| hide\n",
    "from nbdev.showdoc import *\n",
    "from datetime import datetime\n",
    "from datetime import timedelta\n",
    "\n",
    "import numpy as np\n",
    "import pandas as pd\n",
    "\n",
    "from tsmoothie.smoother import ConvolutionSmoother\n",
    "from tsmoothie.bootstrap import BootstrappingWrapper\n",
    "\n"
   ]
  },
  {
   "cell_type": "code",
   "execution_count": null,
   "metadata": {},
   "outputs": [
    {
     "name": "stdout",
     "output_type": "stream",
     "text": [
      "1.3.5 1.23.4\n"
     ]
    }
   ],
   "source": [
    "print(pd.__version__, np.__version__)"
   ]
  },
  {
   "cell_type": "code",
   "execution_count": null,
   "metadata": {},
   "outputs": [],
   "source": [
    "#| export\n",
    "def foo(): return 10"
   ]
  },
  {
   "cell_type": "code",
   "execution_count": null,
   "metadata": {},
   "outputs": [],
   "source": [
    "#| export\n",
    "def clip_date(df_full_range):\n",
    "    \"\"\" \n",
    "    This function clips the date based on the below criteria\n",
    "    Note: If the sales qty is zero in the beginning, the date range is trimmed off\n",
    "    at the begining, till the first positive sales qty is observed\n",
    "    \"\"\"\n",
    "\n",
    "    # check if sales is 0 at the begining. if yes, trim-off the data to start with first postive sales qty\n",
    "    start = df_full_range.loc[df_full_range['qty'] > 0].index\n",
    "\n",
    "    if len(start) > 0:\n",
    "    # 30 is added because, the bootstrap function required 30 day time window.\n",
    "    \n",
    "        if start[0] + 30  < len(df_full_range) :\n",
    "            date = df_full_range.at[start[0], 'date']\n",
    "        else:\n",
    "            date = df_full_range.at[0, 'date']\n",
    "    else:\n",
    "        date = df_full_range.at[0, 'date']\n",
    "\n",
    "\n",
    "    return date"
   ]
  },
  {
   "cell_type": "code",
   "execution_count": null,
   "metadata": {},
   "outputs": [],
   "source": [
    "#| hide\n",
    "import nbdev; nbdev.nbdev_export()"
   ]
  },
  {
   "cell_type": "code",
   "execution_count": null,
   "metadata": {},
   "outputs": [],
   "source": []
  },
  {
   "cell_type": "code",
   "execution_count": null,
   "metadata": {},
   "outputs": [],
   "source": []
  }
 ],
 "metadata": {
  "kernelspec": {
   "display_name": "Python 3 (ipykernel)",
   "language": "python",
   "name": "python3"
  }
 },
 "nbformat": 4,
 "nbformat_minor": 4
}
