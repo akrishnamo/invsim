{
 "cells": [
  {
   "cell_type": "code",
   "execution_count": null,
   "metadata": {},
   "outputs": [],
   "source": [
    "#| hide\n",
    "from invsim.sdsim import *\n",
    "import pandas as pd"
   ]
  },
  {
   "cell_type": "markdown",
   "metadata": {},
   "source": [
    "# invsim"
   ]
  },
  {
   "cell_type": "markdown",
   "metadata": {},
   "source": [
    "This is the repository for inventory simulation module for Safe Decor. It includes simulation and order recommendation functionality"
   ]
  },
  {
   "cell_type": "markdown",
   "metadata": {},
   "source": [
    "## Install"
   ]
  },
  {
   "cell_type": "markdown",
   "metadata": {},
   "source": [
    "```sh\n",
    "pip install invsim\n",
    "```"
   ]
  },
  {
   "cell_type": "markdown",
   "metadata": {},
   "source": [
    "## How to use"
   ]
  },
  {
   "cell_type": "markdown",
   "metadata": {},
   "source": [
    "Clip_date returns first non zero date if there are at least 30 elements, if not just returns the first date"
   ]
  },
  {
   "cell_type": "markdown",
   "metadata": {},
   "source": [
    "Case1: there are more than 30 elements"
   ]
  },
  {
   "cell_type": "code",
   "execution_count": null,
   "metadata": {},
   "outputs": [
    {
     "data": {
      "text/html": [
       "<div>\n",
       "<style scoped>\n",
       "    .dataframe tbody tr th:only-of-type {\n",
       "        vertical-align: middle;\n",
       "    }\n",
       "\n",
       "    .dataframe tbody tr th {\n",
       "        vertical-align: top;\n",
       "    }\n",
       "\n",
       "    .dataframe thead th {\n",
       "        text-align: right;\n",
       "    }\n",
       "</style>\n",
       "<table border=\"1\" class=\"dataframe\">\n",
       "  <thead>\n",
       "    <tr style=\"text-align: right;\">\n",
       "      <th></th>\n",
       "      <th>0</th>\n",
       "      <th>1</th>\n",
       "      <th>2</th>\n",
       "      <th>3</th>\n",
       "      <th>4</th>\n",
       "      <th>5</th>\n",
       "      <th>6</th>\n",
       "      <th>7</th>\n",
       "      <th>8</th>\n",
       "      <th>9</th>\n",
       "      <th>...</th>\n",
       "      <th>30</th>\n",
       "      <th>31</th>\n",
       "      <th>32</th>\n",
       "      <th>33</th>\n",
       "      <th>34</th>\n",
       "      <th>35</th>\n",
       "      <th>36</th>\n",
       "      <th>37</th>\n",
       "      <th>38</th>\n",
       "      <th>39</th>\n",
       "    </tr>\n",
       "  </thead>\n",
       "  <tbody>\n",
       "    <tr>\n",
       "      <th>date</th>\n",
       "      <td>2022-01-01</td>\n",
       "      <td>2022-01-02</td>\n",
       "      <td>2022-01-03</td>\n",
       "      <td>2022-01-04</td>\n",
       "      <td>2022-01-05</td>\n",
       "      <td>2022-01-06</td>\n",
       "      <td>2022-01-07</td>\n",
       "      <td>2022-01-08</td>\n",
       "      <td>2022-01-09</td>\n",
       "      <td>2022-01-10</td>\n",
       "      <td>...</td>\n",
       "      <td>2022-01-31</td>\n",
       "      <td>2022-02-01</td>\n",
       "      <td>2022-02-02</td>\n",
       "      <td>2022-02-03</td>\n",
       "      <td>2022-02-04</td>\n",
       "      <td>2022-02-05</td>\n",
       "      <td>2022-02-06</td>\n",
       "      <td>2022-02-07</td>\n",
       "      <td>2022-02-08</td>\n",
       "      <td>2022-02-09</td>\n",
       "    </tr>\n",
       "    <tr>\n",
       "      <th>qty</th>\n",
       "      <td>0</td>\n",
       "      <td>0</td>\n",
       "      <td>0</td>\n",
       "      <td>0</td>\n",
       "      <td>0</td>\n",
       "      <td>10</td>\n",
       "      <td>10</td>\n",
       "      <td>10</td>\n",
       "      <td>10</td>\n",
       "      <td>10</td>\n",
       "      <td>...</td>\n",
       "      <td>10</td>\n",
       "      <td>10</td>\n",
       "      <td>10</td>\n",
       "      <td>10</td>\n",
       "      <td>10</td>\n",
       "      <td>10</td>\n",
       "      <td>10</td>\n",
       "      <td>10</td>\n",
       "      <td>10</td>\n",
       "      <td>10</td>\n",
       "    </tr>\n",
       "  </tbody>\n",
       "</table>\n",
       "<p>2 rows × 40 columns</p>\n",
       "</div>"
      ],
      "text/plain": [
       "              0           1           2           3           4           5   \\\n",
       "date  2022-01-01  2022-01-02  2022-01-03  2022-01-04  2022-01-05  2022-01-06   \n",
       "qty            0           0           0           0           0          10   \n",
       "\n",
       "              6           7           8           9   ...          30  \\\n",
       "date  2022-01-07  2022-01-08  2022-01-09  2022-01-10  ...  2022-01-31   \n",
       "qty           10          10          10          10  ...          10   \n",
       "\n",
       "              31          32          33          34          35          36  \\\n",
       "date  2022-02-01  2022-02-02  2022-02-03  2022-02-04  2022-02-05  2022-02-06   \n",
       "qty           10          10          10          10          10          10   \n",
       "\n",
       "              37          38          39  \n",
       "date  2022-02-07  2022-02-08  2022-02-09  \n",
       "qty           10          10          10  \n",
       "\n",
       "[2 rows x 40 columns]"
      ]
     },
     "metadata": {},
     "output_type": "display_data"
    },
    {
     "name": "stdout",
     "output_type": "stream",
     "text": [
      "clip date = 2022-01-06\n"
     ]
    }
   ],
   "source": [
    "ndays=40\n",
    "leading_zero_days=5\n",
    "dates=pd.date_range(start='2022-01-01', periods=ndays, freq='D')\n",
    "values=[0]*leading_zero_days+[10]*(ndays-leading_zero_days)\n",
    "\n",
    "df=pd.DataFrame({'date':dates, 'qty': values})\n",
    "df['date']=df.date.apply(lambda x: x.date())\n",
    "display(df.T)\n",
    "\n",
    "print(\"clip date =\", clip_date(df))"
   ]
  },
  {
   "cell_type": "markdown",
   "metadata": {},
   "source": [
    "Case2: There are less than 30 elements"
   ]
  },
  {
   "cell_type": "code",
   "execution_count": null,
   "metadata": {},
   "outputs": [
    {
     "data": {
      "text/html": [
       "<div>\n",
       "<style scoped>\n",
       "    .dataframe tbody tr th:only-of-type {\n",
       "        vertical-align: middle;\n",
       "    }\n",
       "\n",
       "    .dataframe tbody tr th {\n",
       "        vertical-align: top;\n",
       "    }\n",
       "\n",
       "    .dataframe thead th {\n",
       "        text-align: right;\n",
       "    }\n",
       "</style>\n",
       "<table border=\"1\" class=\"dataframe\">\n",
       "  <thead>\n",
       "    <tr style=\"text-align: right;\">\n",
       "      <th></th>\n",
       "      <th>0</th>\n",
       "      <th>1</th>\n",
       "      <th>2</th>\n",
       "      <th>3</th>\n",
       "      <th>4</th>\n",
       "      <th>5</th>\n",
       "      <th>6</th>\n",
       "      <th>7</th>\n",
       "      <th>8</th>\n",
       "      <th>9</th>\n",
       "      <th>...</th>\n",
       "      <th>19</th>\n",
       "      <th>20</th>\n",
       "      <th>21</th>\n",
       "      <th>22</th>\n",
       "      <th>23</th>\n",
       "      <th>24</th>\n",
       "      <th>25</th>\n",
       "      <th>26</th>\n",
       "      <th>27</th>\n",
       "      <th>28</th>\n",
       "    </tr>\n",
       "  </thead>\n",
       "  <tbody>\n",
       "    <tr>\n",
       "      <th>date</th>\n",
       "      <td>2022-01-01</td>\n",
       "      <td>2022-01-02</td>\n",
       "      <td>2022-01-03</td>\n",
       "      <td>2022-01-04</td>\n",
       "      <td>2022-01-05</td>\n",
       "      <td>2022-01-06</td>\n",
       "      <td>2022-01-07</td>\n",
       "      <td>2022-01-08</td>\n",
       "      <td>2022-01-09</td>\n",
       "      <td>2022-01-10</td>\n",
       "      <td>...</td>\n",
       "      <td>2022-01-20</td>\n",
       "      <td>2022-01-21</td>\n",
       "      <td>2022-01-22</td>\n",
       "      <td>2022-01-23</td>\n",
       "      <td>2022-01-24</td>\n",
       "      <td>2022-01-25</td>\n",
       "      <td>2022-01-26</td>\n",
       "      <td>2022-01-27</td>\n",
       "      <td>2022-01-28</td>\n",
       "      <td>2022-01-29</td>\n",
       "    </tr>\n",
       "    <tr>\n",
       "      <th>qty</th>\n",
       "      <td>0</td>\n",
       "      <td>0</td>\n",
       "      <td>0</td>\n",
       "      <td>0</td>\n",
       "      <td>0</td>\n",
       "      <td>10</td>\n",
       "      <td>10</td>\n",
       "      <td>10</td>\n",
       "      <td>10</td>\n",
       "      <td>10</td>\n",
       "      <td>...</td>\n",
       "      <td>10</td>\n",
       "      <td>10</td>\n",
       "      <td>10</td>\n",
       "      <td>10</td>\n",
       "      <td>10</td>\n",
       "      <td>10</td>\n",
       "      <td>10</td>\n",
       "      <td>10</td>\n",
       "      <td>10</td>\n",
       "      <td>10</td>\n",
       "    </tr>\n",
       "  </tbody>\n",
       "</table>\n",
       "<p>2 rows × 29 columns</p>\n",
       "</div>"
      ],
      "text/plain": [
       "              0           1           2           3           4           5   \\\n",
       "date  2022-01-01  2022-01-02  2022-01-03  2022-01-04  2022-01-05  2022-01-06   \n",
       "qty            0           0           0           0           0          10   \n",
       "\n",
       "              6           7           8           9   ...          19  \\\n",
       "date  2022-01-07  2022-01-08  2022-01-09  2022-01-10  ...  2022-01-20   \n",
       "qty           10          10          10          10  ...          10   \n",
       "\n",
       "              20          21          22          23          24          25  \\\n",
       "date  2022-01-21  2022-01-22  2022-01-23  2022-01-24  2022-01-25  2022-01-26   \n",
       "qty           10          10          10          10          10          10   \n",
       "\n",
       "              26          27          28  \n",
       "date  2022-01-27  2022-01-28  2022-01-29  \n",
       "qty           10          10          10  \n",
       "\n",
       "[2 rows x 29 columns]"
      ]
     },
     "metadata": {},
     "output_type": "display_data"
    },
    {
     "name": "stdout",
     "output_type": "stream",
     "text": [
      "clip date = 2022-01-01\n"
     ]
    }
   ],
   "source": [
    "ndays=29\n",
    "leading_zero_days=5\n",
    "dates=pd.date_range(start='2022-01-01', periods=ndays, freq='D')\n",
    "values=[0]*leading_zero_days+[10]*(ndays-leading_zero_days)\n",
    "\n",
    "df=pd.DataFrame({'date':dates, 'qty': values})\n",
    "df['date']=df.date.apply(lambda x: x.date())\n",
    "display(df.T)\n",
    "\n",
    "print(\"clip date =\", clip_date(df))"
   ]
  },
  {
   "cell_type": "code",
   "execution_count": null,
   "metadata": {},
   "outputs": [],
   "source": []
  },
  {
   "cell_type": "code",
   "execution_count": null,
   "metadata": {},
   "outputs": [],
   "source": []
  }
 ],
 "metadata": {
  "kernelspec": {
   "display_name": "Python 3 (ipykernel)",
   "language": "python",
   "name": "python3"
  }
 },
 "nbformat": 4,
 "nbformat_minor": 4
}
